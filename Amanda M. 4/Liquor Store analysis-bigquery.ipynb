{
 "cells": [
  {
   "cell_type": "code",
   "execution_count": null,
   "id": "8479e644",
   "metadata": {},
   "outputs": [],
   "source": [
    "qr=client.query('''\n",
    "\n",
    "SELECT * FROM\n",
    "'liquor-store-analysis.Liquor_Dataset.TABLE1`\n",
    "LIMIT 20\n",
    "''')\n",
    "\n",
    "results=qr.result()"
   ]
  },
  {
   "cell_type": "code",
   "execution_count": null,
   "id": "6a6337d2",
   "metadata": {},
   "outputs": [],
   "source": [
    "stores_DF=results.to_dataframe()"
   ]
  },
  {
   "cell_type": "code",
   "execution_count": null,
   "id": "21421afb",
   "metadata": {
    "scrolled": true
   },
   "outputs": [],
   "source": [
    "stores_DF"
   ]
  },
  {
   "cell_type": "code",
   "execution_count": null,
   "id": "1d6bbde7",
   "metadata": {},
   "outputs": [],
   "source": [
    "#Set environment variables for your notebook\n",
    "import pyarrow \n",
    "import os \n",
    "os.environ['GOOGLE_APPLICATION_CREDENTIALS'] = '/Users/amandamanfredo/Downloads/liquor_data.json'\n",
    "#Imports google cloud client library and initiates BQ service\n",
    "from google.cloud import bigquery\n",
    "bigquery_client = bigquery.Client()\n",
    "#Write Query on BQ\n",
    "QUERY = \"\"\"\n",
    "SELECT *\n",
    "FROM `bigquery-public-data.iowa_liquor_sales.sales`\n",
    "LIMIT 20\n",
    "  \n",
    "  \"\"\"\n",
    "#Run the query and write result to a pandas data frame\n",
    "Query_Results = bigquery_client.query(QUERY)\n",
    "df = Query_Results.to_dataframe()\n",
    "#View top few rows of result\n",
    "df"
   ]
  },
  {
   "cell_type": "code",
   "execution_count": null,
   "id": "5487e6a8",
   "metadata": {},
   "outputs": [],
   "source": []
  }
 ],
 "metadata": {
  "kernelspec": {
   "display_name": "Python 3",
   "language": "python",
   "name": "python3"
  },
  "language_info": {
   "codemirror_mode": {
    "name": "ipython",
    "version": 3
   },
   "file_extension": ".py",
   "mimetype": "text/x-python",
   "name": "python",
   "nbconvert_exporter": "python",
   "pygments_lexer": "ipython3",
   "version": "3.8.8"
  }
 },
 "nbformat": 4,
 "nbformat_minor": 5
}
