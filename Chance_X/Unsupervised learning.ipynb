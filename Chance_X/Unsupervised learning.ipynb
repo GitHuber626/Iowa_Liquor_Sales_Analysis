{
 "cells": [
  {
   "cell_type": "code",
   "execution_count": null,
   "id": "e4990e3f",
   "metadata": {},
   "outputs": [],
   "source": [
    "#Set environment variables for our notebook\n",
    "import os \n",
    "os.environ['GOOGLE_APPLICATION_CREDENTIALS'] = 'bigqueryliquor.json'\n",
    "#Imports google cloud client library and initiates BQ service\n",
    "from google.cloud import bigquery\n",
    "bigquery_client = bigquery.Client()\n",
    "#Write Query on BQ (in this case we retrieve data within the 2018-01-01 to 2018-12-31 timeframe and focus on the Hy-Vee \n",
    "#store, as we found in our initial data analysis that Hy-Vee sold the most liquors over the years in Iowa)\n",
    "QUERY = \"\"\"\n",
    "SELECT\n",
    "  *\n",
    "FROM \n",
    "  `liquor-store-sale-capstone.liquor_store_sales.Iowa_Hy-Vee_Liquor_Sale_Beg2012_NoNull`\n",
    "ORDER BY RAND()\n",
    "LIMIT 10000\n",
    "  \"\"\"\n",
    "#Run the query and write result to a pandas data frame\n",
    "Query_Results = bigquery_client.query(QUERY)\n",
    "df = Query_Results.to_dataframe()"
   ]
  },
  {
   "cell_type": "code",
   "execution_count": 2,
   "id": "9429105b",
   "metadata": {},
   "outputs": [],
   "source": [
    "import pandas as pd\n",
    "pd.set_option('display.max_columns',None)"
   ]
  },
  {
   "cell_type": "code",
   "execution_count": 3,
   "id": "c6446c49",
   "metadata": {},
   "outputs": [],
   "source": [
    "#In order for easy data processing, all the preprocessing processes done in the 'EDA, Location Analysis, Time Series.ipynb'\n",
    "#have been streamlined into 'dataprocessing.py'\n",
    "# %load_ext autoreload\n",
    "# %autoreload 2\n",
    "from dataprocessing import preprocessing"
   ]
  },
  {
   "cell_type": "code",
   "execution_count": 5,
   "id": "28ec2347",
   "metadata": {},
   "outputs": [],
   "source": [
    "#streamlined preprocessing data\n",
    "import warnings\n",
    "warnings.filterwarnings('ignore')\n",
    "df = preprocessing(df)"
   ]
  },
  {
   "cell_type": "code",
   "execution_count": null,
   "id": "c48cf048",
   "metadata": {},
   "outputs": [],
   "source": []
  }
 ],
 "metadata": {
  "kernelspec": {
   "display_name": "Python 3",
   "language": "python",
   "name": "python3"
  },
  "language_info": {
   "codemirror_mode": {
    "name": "ipython",
    "version": 3
   },
   "file_extension": ".py",
   "mimetype": "text/x-python",
   "name": "python",
   "nbconvert_exporter": "python",
   "pygments_lexer": "ipython3",
   "version": "3.8.8"
  }
 },
 "nbformat": 4,
 "nbformat_minor": 5
}
